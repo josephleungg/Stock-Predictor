{
 "cells": [
  {
   "cell_type": "code",
   "execution_count": 1,
   "id": "b29811c3",
   "metadata": {
    "colab": {
     "base_uri": "https://localhost:8080/",
     "height": 411
    },
    "id": "b29811c3",
    "outputId": "c777b2fc-05b7-47c9-e0d8-96706837fb98"
   },
   "outputs": [
    {
     "ename": "ModuleNotFoundError",
     "evalue": "No module named 'matplotlib'",
     "output_type": "error",
     "traceback": [
      "\u001b[0;31m---------------------------------------------------------------------------\u001b[0m",
      "\u001b[0;31mModuleNotFoundError\u001b[0m                       Traceback (most recent call last)",
      "Cell \u001b[0;32mIn[1], line 2\u001b[0m\n\u001b[1;32m      1\u001b[0m \u001b[38;5;28;01mimport\u001b[39;00m \u001b[38;5;21;01mnumpy\u001b[39;00m \u001b[38;5;28;01mas\u001b[39;00m \u001b[38;5;21;01mnp\u001b[39;00m\n\u001b[0;32m----> 2\u001b[0m \u001b[38;5;28;01mimport\u001b[39;00m \u001b[38;5;21;01mmatplotlib\u001b[39;00m\u001b[38;5;21;01m.\u001b[39;00m\u001b[38;5;21;01mpyplot\u001b[39;00m \u001b[38;5;28;01mas\u001b[39;00m \u001b[38;5;21;01mplt\u001b[39;00m\n\u001b[1;32m      3\u001b[0m \u001b[38;5;28;01mimport\u001b[39;00m \u001b[38;5;21;01mpandas\u001b[39;00m \u001b[38;5;28;01mas\u001b[39;00m \u001b[38;5;21;01mpd\u001b[39;00m\n\u001b[1;32m      4\u001b[0m \u001b[38;5;28;01mimport\u001b[39;00m \u001b[38;5;21;01myfinance\u001b[39;00m \u001b[38;5;28;01mas\u001b[39;00m \u001b[38;5;21;01myf\u001b[39;00m\n",
      "\u001b[0;31mModuleNotFoundError\u001b[0m: No module named 'matplotlib'"
     ]
    }
   ],
   "source": [
    "import numpy as np\n",
    "import matplotlib.pyplot as plt\n",
    "import pandas as pd\n",
    "import yfinance as yf\n",
    "#import pandas_ta as ta\n",
    "data = yf.download(tickers = '^RUI', start = '2012-03-11',end = '2022-07-10')\n",
    "data.head(10)"
   ]
  },
  {
   "cell_type": "code",
   "execution_count": null,
   "id": "68e700e1",
   "metadata": {
    "colab": {
     "base_uri": "https://localhost:8080/"
    },
    "id": "68e700e1",
    "outputId": "4e517939-6cdb-4549-ae95-82cb8faa439b"
   },
   "outputs": [
    {
     "ename": "",
     "evalue": "",
     "output_type": "error",
     "traceback": [
      "\u001b[1;31mRunning cells with 'Python 3.12.3' requires the ipykernel package.\n",
      "\u001b[1;31mRun the following command to install 'ipykernel' into the Python environment. \n",
      "\u001b[1;31mCommand: '/opt/homebrew/bin/python3 -m pip install ipykernel -U --user --force-reinstall'"
     ]
    }
   ],
   "source": [
    "# Adding indicators\n",
    "#data['RSI']=ta.rsi(data.Close, length=15)\n",
    "#data['EMAF']=ta.ema(data.Close, length=20)\n",
    "#data['EMAM']=ta.ema(data.Close, length=100)\n",
    "#data['EMAS']=ta.ema(data.Close, length=150)\n",
    "\n",
    "#data['Target'] = data['Adj Close']-data.Open\n",
    "#data['Target'] = data['Target'].shift(-1)\n",
    "\n",
    "#data['TargetClass'] = [1 if data.Target[i]>0 else 0 for i in range(len(data))]\n",
    "\n",
    "#data['TargetNextClose'] = data['Adj Close'].shift(-1)\n",
    "\n",
    "#data.dropna(inplace=True)\n",
    "#data.reset_index(inplace = True)\n",
    "#data.drop(['Volume', 'Close', 'Date'], axis=1, inplace=True)\n",
    "sp500  = yf.Ticker(\"^GSPC\")\n",
    "sp500 = sp500.history(period='max')\n",
    "\n",
    "#sp500.plot.line(y='Close',use_index=True)\n",
    "\n",
    "del sp500['Dividends']\n",
    "del sp500['Stock Splits']\n",
    "del sp500['Open']\n",
    "del sp500['High']\n",
    "del sp500['Low']\n",
    "del sp500['Volume']\n",
    "\n",
    "daysago = pd.DataFrame(dtype=object)\n",
    "for i in range(100,-2,-1):\n",
    "  daysago['{}dayago'.format(i)] = sp500['Close'].shift(i)\n",
    "\n",
    "del sp500['Close']\n",
    "data = pd.concat([sp500, daysago], axis=1)\n",
    "data.head(10)\n",
    "\n",
    "data = data.loc['1990-01-01':].copy()\n",
    "data = data.drop(index=data.tail(1).index)\n",
    "data.tail(5)\n",
    "data.shape"
   ]
  },
  {
   "cell_type": "code",
   "execution_count": null,
   "id": "a2b0e972",
   "metadata": {
    "colab": {
     "base_uri": "https://localhost:8080/"
    },
    "id": "a2b0e972",
    "outputId": "751a02f2-b8de-4757-abab-ba38a706b6d7"
   },
   "outputs": [
    {
     "ename": "",
     "evalue": "",
     "output_type": "error",
     "traceback": [
      "\u001b[1;31mRunning cells with 'Python 3.12.3' requires the ipykernel package.\n",
      "\u001b[1;31mRun the following command to install 'ipykernel' into the Python environment. \n",
      "\u001b[1;31mCommand: '/opt/homebrew/bin/python3 -m pip install ipykernel -U --user --force-reinstall'"
     ]
    }
   ],
   "source": [
    "data_set = data#.iloc[:, 0:101]#.values\n",
    "pd.set_option('display.max_columns', None)\n",
    "\n",
    "#print(data_set.head(20))\n",
    "print(data_set.shape)\n",
    "#print(data.shape)\n",
    "#print(type(data_set))"
   ]
  },
  {
   "cell_type": "code",
   "execution_count": null,
   "id": "eb3a2c0c",
   "metadata": {
    "id": "eb3a2c0c"
   },
   "outputs": [
    {
     "ename": "",
     "evalue": "",
     "output_type": "error",
     "traceback": [
      "\u001b[1;31mRunning cells with 'Python 3.12.3' requires the ipykernel package.\n",
      "\u001b[1;31mRun the following command to install 'ipykernel' into the Python environment. \n",
      "\u001b[1;31mCommand: '/opt/homebrew/bin/python3 -m pip install ipykernel -U --user --force-reinstall'"
     ]
    }
   ],
   "source": [
    "#Target column Categories\n",
    "#y =[1 if data.Open[i]>data.Close[i] else 0 for i in range(0, len(data))]\n",
    "#yi = [data.Open[i]-data.Close[i] for i in range(0, len(data))]\n",
    "#print(yi)\n",
    "#print(len(yi))"
   ]
  },
  {
   "cell_type": "code",
   "execution_count": null,
   "id": "b9d38e4c",
   "metadata": {
    "colab": {
     "base_uri": "https://localhost:8080/"
    },
    "id": "b9d38e4c",
    "outputId": "0669c437-260e-42f6-cdd6-7e5b03c1a05e"
   },
   "outputs": [
    {
     "ename": "",
     "evalue": "",
     "output_type": "error",
     "traceback": [
      "\u001b[1;31mRunning cells with 'Python 3.12.3' requires the ipykernel package.\n",
      "\u001b[1;31mRun the following command to install 'ipykernel' into the Python environment. \n",
      "\u001b[1;31mCommand: '/opt/homebrew/bin/python3 -m pip install ipykernel -U --user --force-reinstall'"
     ]
    }
   ],
   "source": [
    "from sklearn.preprocessing import MinMaxScaler\n",
    "sc = MinMaxScaler(feature_range=(0,1))\n",
    "data_set_scaled = sc.fit_transform(data_set)\n",
    "print(data_set_scaled)"
   ]
  },
  {
   "cell_type": "code",
   "execution_count": null,
   "id": "99ca74fd",
   "metadata": {
    "colab": {
     "base_uri": "https://localhost:8080/"
    },
    "id": "99ca74fd",
    "outputId": "2815b3a5-cfb7-4328-a1e9-b2485a22e0a9",
    "scrolled": true
   },
   "outputs": [
    {
     "ename": "",
     "evalue": "",
     "output_type": "error",
     "traceback": [
      "\u001b[1;31mRunning cells with 'Python 3.12.3' requires the ipykernel package.\n",
      "\u001b[1;31mRun the following command to install 'ipykernel' into the Python environment. \n",
      "\u001b[1;31mCommand: '/opt/homebrew/bin/python3 -m pip install ipykernel -U --user --force-reinstall'"
     ]
    }
   ],
   "source": [
    "# multiple feature from data provided to the model\n",
    "X = []\n",
    "#print(data_set_scaled[0].size)\n",
    "#data_set_scaled=data_set.values\n",
    "backcandles = 10\n",
    "#print(data_set_scaled.shape[0])\n",
    "for j in range(102):#data_set_scaled[0].size):#2 columns are target not X\n",
    "    X.append([])\n",
    "    for i in range(backcandles, data_set_scaled.shape[0]):#backcandles+2\n",
    "        X[j].append(data_set_scaled[i-backcandles:i, j])\n",
    "\n",
    "#move axis from 0 to position 2\n",
    "X=np.moveaxis(X, [0], [2])\n",
    "#print(X)\n",
    "#Erase first elements of y because of backcandles to match X length\n",
    "#del(yi[0:backcandles])\n",
    "#X, yi = np.array(X), np.array(yi)\n",
    "# Choose -1 for last column, classification else -2...\n",
    "X, yi =np.array(X), np.array(data_set_scaled[backcandles:,-1])\n",
    "y=np.reshape(yi,(len(yi),1))\n",
    "#y=sc.fit_transform(yi)\n",
    "#X_train = np.reshape(X_train, (X_train.shape[0], X_train.shape[1], 1))\n",
    "print(X)\n",
    "print(X.shape)\n",
    "print(y)\n",
    "print(y.shape)"
   ]
  },
  {
   "cell_type": "code",
   "execution_count": null,
   "id": "c01b699a",
   "metadata": {
    "id": "c01b699a"
   },
   "outputs": [
    {
     "ename": "",
     "evalue": "",
     "output_type": "error",
     "traceback": [
      "\u001b[1;31mRunning cells with 'Python 3.12.3' requires the ipykernel package.\n",
      "\u001b[1;31mRun the following command to install 'ipykernel' into the Python environment. \n",
      "\u001b[1;31mCommand: '/opt/homebrew/bin/python3 -m pip install ipykernel -U --user --force-reinstall'"
     ]
    }
   ],
   "source": [
    "#also comprehensions for X\n",
    "#X = np.array([data_set_scaled[i-backcandles:i,:4].copy() for i in range(backcandles,len(data_set_scaled))])\n",
    "#print(X)\n",
    "#print(X.shape)"
   ]
  },
  {
   "cell_type": "code",
   "execution_count": null,
   "id": "a2a87918",
   "metadata": {
    "colab": {
     "base_uri": "https://localhost:8080/"
    },
    "id": "a2a87918",
    "outputId": "ff6c60d9-4872-4fc9-eb3d-75449f4df8a4"
   },
   "outputs": [
    {
     "ename": "",
     "evalue": "",
     "output_type": "error",
     "traceback": [
      "\u001b[1;31mRunning cells with 'Python 3.12.3' requires the ipykernel package.\n",
      "\u001b[1;31mRun the following command to install 'ipykernel' into the Python environment. \n",
      "\u001b[1;31mCommand: '/opt/homebrew/bin/python3 -m pip install ipykernel -U --user --force-reinstall'"
     ]
    }
   ],
   "source": [
    "# split data into train test sets\n",
    "splitlimit = int(len(X)*0.8)\n",
    "print(splitlimit)\n",
    "X_train, X_test = X[:splitlimit], X[splitlimit:]\n",
    "y_train, y_test = y[:splitlimit], y[splitlimit:]\n",
    "print(X_train.shape)\n",
    "print(X_test.shape)\n",
    "print(y_train.shape)\n",
    "print(y_test.shape)\n",
    "print(y_train)"
   ]
  },
  {
   "cell_type": "code",
   "execution_count": null,
   "id": "9867161a",
   "metadata": {
    "colab": {
     "base_uri": "https://localhost:8080/"
    },
    "id": "9867161a",
    "outputId": "579fd620-e782-45e7-d5d8-09bb6043f298"
   },
   "outputs": [
    {
     "ename": "",
     "evalue": "",
     "output_type": "error",
     "traceback": [
      "\u001b[1;31mRunning cells with 'Python 3.12.3' requires the ipykernel package.\n",
      "\u001b[1;31mRun the following command to install 'ipykernel' into the Python environment. \n",
      "\u001b[1;31mCommand: '/opt/homebrew/bin/python3 -m pip install ipykernel -U --user --force-reinstall'"
     ]
    }
   ],
   "source": [
    "#!pip install optree\n",
    "#!pip install keras\n",
    "#import optree\n",
    "import keras\n",
    "from keras.models import Sequential\n",
    "from keras.layers import LSTM\n",
    "from keras.layers import Dropout\n",
    "from keras.layers import Dense\n",
    "from keras.layers import TimeDistributed\n",
    "\n",
    "import tensorflow as tf\n",
    "\n",
    "from keras import optimizers\n",
    "from keras.callbacks import History\n",
    "from keras.models import Model\n",
    "from keras.layers import Dense, Dropout, LSTM, Input, Activation, concatenate\n",
    "import numpy as np\n",
    "#tf.random.set_seed(20)\n",
    "np.random.seed(10)\n",
    "\n",
    "lstm_input = Input(shape=(backcandles, 102), name='lstm_input')\n",
    "inputs = LSTM(150, name='first_layer')(lstm_input)\n",
    "inputs = Dense(1, name='dense_layer')(inputs)\n",
    "output = Activation('linear', name='output')(inputs)\n",
    "model = Model(inputs=lstm_input, outputs=output)\n",
    "adam = optimizers.Adam()\n",
    "model.compile(optimizer=adam, loss='mse')\n",
    "model.fit(x=X_train, y=y_train, batch_size=15, epochs=30, shuffle=True, validation_split = 0.1)"
   ]
  },
  {
   "cell_type": "code",
   "execution_count": null,
   "id": "08324ede",
   "metadata": {
    "colab": {
     "base_uri": "https://localhost:8080/"
    },
    "id": "08324ede",
    "outputId": "60b9e72c-2a3a-4d38-b834-4201995ebd23"
   },
   "outputs": [
    {
     "ename": "",
     "evalue": "",
     "output_type": "error",
     "traceback": [
      "\u001b[1;31mRunning cells with 'Python 3.12.3' requires the ipykernel package.\n",
      "\u001b[1;31mRun the following command to install 'ipykernel' into the Python environment. \n",
      "\u001b[1;31mCommand: '/opt/homebrew/bin/python3 -m pip install ipykernel -U --user --force-reinstall'"
     ]
    }
   ],
   "source": [
    "y_pred = model.predict(X_test)\n",
    "#y_pred=np.where(y_pred > 0.43, 1,0)\n",
    "for i in range(10):\n",
    "    print(y_pred[i], y_test[i])"
   ]
  },
  {
   "cell_type": "code",
   "execution_count": null,
   "id": "67f5e31a",
   "metadata": {
    "colab": {
     "base_uri": "https://localhost:8080/",
     "height": 607
    },
    "id": "67f5e31a",
    "outputId": "ce19afdb-7926-4247-b4b9-9da02ae5648c"
   },
   "outputs": [
    {
     "ename": "",
     "evalue": "",
     "output_type": "error",
     "traceback": [
      "\u001b[1;31mRunning cells with 'Python 3.12.3' requires the ipykernel package.\n",
      "\u001b[1;31mRun the following command to install 'ipykernel' into the Python environment. \n",
      "\u001b[1;31mCommand: '/opt/homebrew/bin/python3 -m pip install ipykernel -U --user --force-reinstall'"
     ]
    }
   ],
   "source": [
    "plt.figure(figsize=(16,8))\n",
    "plt.plot(y_test, color = 'black', label = 'Test')\n",
    "plt.plot(y_pred, color = 'green', label = 'pred')\n",
    "plt.legend()\n",
    "plt.show()"
   ]
  },
  {
   "cell_type": "code",
   "execution_count": null,
   "id": "18555402",
   "metadata": {
    "colab": {
     "base_uri": "https://localhost:8080/"
    },
    "id": "18555402",
    "outputId": "03aa9742-8a3d-499b-ddb9-91817a213dc1"
   },
   "outputs": [
    {
     "ename": "",
     "evalue": "",
     "output_type": "error",
     "traceback": [
      "\u001b[1;31mRunning cells with 'Python 3.12.3' requires the ipykernel package.\n",
      "\u001b[1;31mRun the following command to install 'ipykernel' into the Python environment. \n",
      "\u001b[1;31mCommand: '/opt/homebrew/bin/python3 -m pip install ipykernel -U --user --force-reinstall'"
     ]
    }
   ],
   "source": [
    "avg_error = (np.sum(np.sqrt((y_test - y_pred)**2)))/len(y_test)*100\n",
    "print(np.sum(np.sqrt((y_test - y_pred)**2)))\n",
    "print(y_test, y_pred)\n",
    "avg_error\n"
   ]
  },
  {
   "cell_type": "code",
   "execution_count": null,
   "id": "nFpN_ryV5I4u",
   "metadata": {
    "colab": {
     "base_uri": "https://localhost:8080/"
    },
    "id": "nFpN_ryV5I4u",
    "outputId": "806ebb85-0a76-42a0-c164-bdccc95b25d9"
   },
   "outputs": [
    {
     "ename": "",
     "evalue": "",
     "output_type": "error",
     "traceback": [
      "\u001b[1;31mRunning cells with 'Python 3.12.3' requires the ipykernel package.\n",
      "\u001b[1;31mRun the following command to install 'ipykernel' into the Python environment. \n",
      "\u001b[1;31mCommand: '/opt/homebrew/bin/python3 -m pip install ipykernel -U --user --force-reinstall'"
     ]
    }
   ],
   "source": [
    "avg_error_array = []\n",
    "backcandle_avg_array = []\n",
    "for backcandles in range(1,10):\n",
    "    for i in range(1,5): \n",
    "      X = []\n",
    "      for j in range(102):#data_set_scaled[0].size):#2 columns are target not X\n",
    "        X.append([])\n",
    "        for i in range(backcandles, data_set_scaled.shape[0]):#backcandles+2\n",
    "            X[j].append(data_set_scaled[i-backcandles:i, j])\n",
    "      X=np.moveaxis(X, [0], [2])\n",
    "      X, yi =np.array(X), np.array(data_set_scaled[backcandles:,-1])\n",
    "      y=np.reshape(yi,(len(yi),1))\n",
    "      splitlimit = int(len(X)*0.8)\n",
    "      X_train, X_test = X[:splitlimit], X[splitlimit:]\n",
    "      y_train, y_test = y[:splitlimit], y[splitlimit:]\n",
    "      lstm_input = Input(shape=(backcandles, 102), name='lstm_input')\n",
    "      inputs = LSTM(150, name='first_layer')(lstm_input)\n",
    "      inputs = Dense(1, name='dense_layer')(inputs)\n",
    "      output = Activation('linear', name='output')(inputs)\n",
    "      model = Model(inputs=lstm_input, outputs=output)\n",
    "      adam = optimizers.Adam()\n",
    "      model.compile(optimizer=adam, loss='mse')\n",
    "      model.fit(x=X_train, y=y_train, batch_size=15, epochs=30, shuffle=True, validation_split = 0.1)\n",
    "      y_pred = model.predict(X_test)\n",
    "      avg_error = (np.sum(np.sqrt((y_test - y_pred)**2)))/len(y_test)*100\n",
    "      avg_error_array.append(avg_error)\n",
    "    backcandle_avg = np.mean(avg_error_array)\n",
    "    backcandle_avg_array.append(backcandle_avg)\n",
    "    \n",
    "print(backcandle_avg_array)"
   ]
  },
  {
   "cell_type": "markdown",
   "id": "071dd5d5",
   "metadata": {},
   "source": []
  },
  {
   "cell_type": "code",
   "execution_count": null,
   "id": "8c07b4de",
   "metadata": {},
   "outputs": [
    {
     "ename": "",
     "evalue": "",
     "output_type": "error",
     "traceback": [
      "\u001b[1;31mRunning cells with 'Python 3.12.3' requires the ipykernel package.\n",
      "\u001b[1;31mRun the following command to install 'ipykernel' into the Python environment. \n",
      "\u001b[1;31mCommand: '/opt/homebrew/bin/python3 -m pip install ipykernel -U --user --force-reinstall'"
     ]
    }
   ],
   "source": [
    "plt.plot(backcandle_avg_array)\n"
   ]
  },
  {
   "cell_type": "code",
   "execution_count": null,
   "id": "388469e2",
   "metadata": {},
   "outputs": [
    {
     "ename": "",
     "evalue": "",
     "output_type": "error",
     "traceback": [
      "\u001b[1;31mRunning cells with 'Python 3.12.3' requires the ipykernel package.\n",
      "\u001b[1;31mRun the following command to install 'ipykernel' into the Python environment. \n",
      "\u001b[1;31mCommand: '/opt/homebrew/bin/python3 -m pip install ipykernel -U --user --force-reinstall'"
     ]
    }
   ],
   "source": [
    "hardcode_array = [6.671783194915661, 9.747046629233619, 2.5436865895092473, 4.676847428775324, 1.6453430352434466, 1.4854276721271327, 2.554387954102473, 1.6998273906142016, 0.7655917903743081, 1.0623174429617726, 0.6723523368971414, 5.05866365308429, 1.1328844833828045, 0.8811976218670227, 2.423009022976239, 1.284364392889646, 0.7885525280621829, 8.701979171229018, 2.6289916833316087, 1.0716338560636982, 1.166775497791495, 1.579368047395737, 0.9766534920487282, 1.5712059023742522, 5.24098087348706, 2.1303520731199947, 10.674838075633915, 6.1601257556988065, 2.1558035105930338, 5.3431876851206495, 9.932915505572625, 2.954759124932127, 2.581878897020912, 4.515021072582514, 1.9456635276936234, 2.2598907564094612, 2.1060121737844857, 2.472736419066114, 4.349664804811232, 3.8137648209633217, 4.26649540444255, 1.9243753160367305, 3.8949327803558385, 3.8063781338364904, 2.2300966191497076, 1.8304886753600476, 1.8926813464436452, 3.3239644575616394, 2.451378057485158, 3.352520307229817, 1.8150312157252717, 3.3196082917046095, 1.358421988969335, 2.705167275165877, 2.349108785446472, 2.347180309744397, 1.6944992371198433, 1.3984646612200269, 1.3871914590024628, 2.7025187935076067, 2.790507147003722, 3.5900310781974976, 2.454281809769362, 4.7496788919652415, 4.879788259138375, 2.025398546503378, 4.049790731754018, 3.8777450946955083, 6.422102515577564, 4.771600525912777, 1.6922410304889797, 1.4219582680925729, 7.385366698171938, 2.161851228136155, 2.5802676709286785, 1.1396714515947344, 4.531176673170552, 4.380903314038609, 6.867057132060515, 4.91471498795782, 2.518849123756857, 3.3542148767247113, 4.628767963546694, 3.393964871037855, 6.021193534315417, 2.426945081529201, 2.1142730503130647, 8.89981647234929, 1.4904735004164276, 1.6149182097547632, 3.59210935699335, 1.8022856589592435, 2.3703681345603105, 3.0587337904743688, 1.8640514795168044, 2.1333566939581603, 3.563470069592626, 0.8116500674465412, 3.510246504643754]\n",
    "print(min(hardcode_array))\n",
    "hardcode_array.index(0.6723523368971414)"
   ]
  },
  {
   "cell_type": "markdown",
   "id": "e838993d",
   "metadata": {},
   "source": []
  }
 ],
 "metadata": {
  "colab": {
   "provenance": []
  },
  "kernelspec": {
   "display_name": "Python 3 (ipykernel)",
   "language": "python",
   "name": "python3"
  },
  "language_info": {
   "codemirror_mode": {
    "name": "ipython",
    "version": 3
   },
   "file_extension": ".py",
   "mimetype": "text/x-python",
   "name": "python",
   "nbconvert_exporter": "python",
   "pygments_lexer": "ipython3",
   "version": "3.11.2"
  }
 },
 "nbformat": 4,
 "nbformat_minor": 5
}
